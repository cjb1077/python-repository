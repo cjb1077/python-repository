{
 "cells": [
  {
   "cell_type": "code",
   "execution_count": 5,
   "metadata": {},
   "outputs": [
    {
     "name": "stdout",
     "output_type": "stream",
     "text": [
      "You can ride the ride.\n",
      "You can ride the other ride.\n",
      "Too tall to ride the rides.\n"
     ]
    }
   ],
   "source": [
    "# Advanced comparisons and IF statements\n",
    "\n",
    "age = 10\n",
    "height = 210\n",
    "\n",
    "# and\n",
    "if age >= 8 and height >= 135:\n",
    "    print(\"You can ride the ride.\")\n",
    "\n",
    "# or\n",
    "if age >= 17 or height >= 160:\n",
    "    print(\"You can ride the other ride.\")\n",
    "\n",
    "# elif (else if)\n",
    "if height < 120:\n",
    "    print(\"You can't ride any rides.\")\n",
    "elif height < 135: \n",
    "    print(\"You can ride level-1 rides.\")\n",
    "elif height < 200:\n",
    "    print(\"You can ride any ride.\")\n",
    "else:\n",
    "    print(\"Too tall to ride the rides.\")"
   ]
  },
  {
   "cell_type": "code",
   "execution_count": 11,
   "metadata": {},
   "outputs": [
    {
     "name": "stdout",
     "output_type": "stream",
     "text": [
      "3.9.13\n"
     ]
    }
   ],
   "source": [
    "from platform import python_version\n",
    "print(python_version())"
   ]
  },
  {
   "cell_type": "code",
   "execution_count": 25,
   "metadata": {},
   "outputs": [
    {
     "name": "stdout",
     "output_type": "stream",
     "text": [
      "['Joe', 'Amy', 'Mark', 'Zach', 'Jane', 'Sarah']\n",
      "[2, 4, 6, 8, 10]\n"
     ]
    }
   ],
   "source": [
    "# Map\n",
    "\n",
    "class Student:\n",
    "    def __init__(self, name, score):\n",
    "        self.name = name\n",
    "        self.score = score\n",
    "\n",
    "students = [Student(\"Joe\", 0.46), Student(\"Amy\", 0.72), Student(\"Mark\", 0.88), Student(\"Zach\", 0.75), Student(\"Jane\", 0.84), Student(\"Sarah\", 0.63)]\n",
    "\n",
    "student_results = []\n",
    "for student in students:\n",
    "    # if student.score >= 0.7:\n",
    "    #     student_results.append(f\"{student.name} Passed\")\n",
    "    # else:\n",
    "    #     student_results.append(f\"{student.name} Failed\")\n",
    "\n",
    "    student_results.append(f\"{student.name} Passed\") if student.score >= 0.7 else student_results.append(f\"{student.name} Failed\")\n",
    "\n",
    "map_results = list(map(lambda student: student.name, students))\n",
    "\n",
    "print(map_results)\n",
    "\n",
    "numbers = [1,2,3,4,5]\n",
    "\n",
    "multiply_results = list(map(lambda number: number * 2, numbers))\n",
    "\n",
    "print(multiply_results)\n",
    "    \n"
   ]
  },
  {
   "cell_type": "code",
   "execution_count": 35,
   "metadata": {},
   "outputs": [
    {
     "name": "stdout",
     "output_type": "stream",
     "text": [
      "[2, 4]\n"
     ]
    }
   ],
   "source": [
    "# Filter\n",
    "\n",
    "class Student:\n",
    "    def __init__(self, name, score):\n",
    "        self.name = name\n",
    "        self.score = score\n",
    "\n",
    "    def __repr__(self): #https://docs.python.org/3/library/functions.html#repr\n",
    "        return f\"{self.name}: {self.score}\"\n",
    "\n",
    "students = [Student(\"Joe\", 0.46), Student(\"Amy\", 0.72), Student(\"Mark\", 0.88), Student(\"Zach\", 0.75), Student(\"Jane\", 0.84), Student(\"Sarah\", 0.63)]\n",
    "\n",
    "failing_students = []\n",
    "\n",
    "for student in students:\n",
    "    if student.score < 0.7:\n",
    "        failing_students.append(student)\n",
    "\n",
    "# filter_list = list(filter(lambda student: student.score < 0.7, students))\n",
    "\n",
    "# print(filter_list)\n",
    "\n",
    "\n",
    "\n",
    "\n",
    "\n",
    "\n",
    "\n",
    "\n",
    "# Challenge\n",
    "# Use filter to list all even numbers\n",
    "\n",
    "numbers = [1,2,3,4,5]\n",
    "\n",
    "filter_list = list(filter(lambda number: number % 2 == 0, numbers))\n",
    "\n",
    "print(filter_list)"
   ]
  },
  {
   "cell_type": "code",
   "execution_count": 42,
   "metadata": {},
   "outputs": [
    {
     "name": "stdout",
     "output_type": "stream",
     "text": [
      "120\n"
     ]
    }
   ],
   "source": [
    "# Reduce\n",
    "\n",
    "class Student:\n",
    "    def __init__(self, name, score):\n",
    "        self.name = name\n",
    "        self.score = score\n",
    "\n",
    "    def __repr__(self): #https://docs.python.org/3/library/functions.html#repr\n",
    "        return f\"{self.name}: {self.score}\"\n",
    "\n",
    "students = [Student(\"Joe\", 0.46), Student(\"Amy\", 0.72), Student(\"Mark\", 0.88), Student(\"Zach\", 0.75), Student(\"Jane\", 0.84), Student(\"Sarah\", 0.63)]\n",
    "\n",
    "score_total = 0\n",
    "\n",
    "for student in students:\n",
    "    score_total += student.score\n",
    "\n",
    "from functools import reduce\n",
    "\n",
    "reduce_total = reduce(lambda total, student: student.score + total, students, 0)\n",
    "\n",
    "# print(score_total / len(students))\n",
    "\n",
    "# print(round(reduce_total / len(students), 2))\n",
    "\n",
    "numbers = [1,2,3,4,5]\n",
    "\n",
    "\n",
    "reduce_multiply = reduce(lambda total, number: number * total, numbers)\n",
    "\n",
    "print(reduce_multiply)\n",
    "\n",
    "\n"
   ]
  }
 ],
 "metadata": {
  "kernelspec": {
   "display_name": "Python 3",
   "language": "python",
   "name": "python3"
  },
  "language_info": {
   "codemirror_mode": {
    "name": "ipython",
    "version": 3
   },
   "file_extension": ".py",
   "mimetype": "text/x-python",
   "name": "python",
   "nbconvert_exporter": "python",
   "pygments_lexer": "ipython3",
   "version": "3.9.13"
  }
 },
 "nbformat": 4,
 "nbformat_minor": 2
}
